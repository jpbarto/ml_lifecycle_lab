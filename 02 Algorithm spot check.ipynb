{
 "cells": [
  {
   "cell_type": "markdown",
   "metadata": {},
   "source": [
    "# ML algorithm spot check \n",
    "\n",
    "Table of Contents\n",
    "1. [Read in cleaned data](#cleaned)\n",
    "1. [Spot check XGBoost](#xgboost)\n",
    "1. [Spot check Multilayer Perceptron](#mlp)"
   ]
  },
  {
   "cell_type": "markdown",
   "metadata": {},
   "source": [
    "## Read in the cleansed data <a name=\"cleaned\"></a>"
   ]
  },
  {
   "cell_type": "code",
   "execution_count": null,
   "metadata": {},
   "outputs": [],
   "source": [
    "import pandas as pd\n",
    "import numpy as np\n",
    "import sklearn"
   ]
  },
  {
   "cell_type": "code",
   "execution_count": null,
   "metadata": {},
   "outputs": [],
   "source": [
    "prepared_data_dir = 'data/processed'"
   ]
  },
  {
   "cell_type": "code",
   "execution_count": null,
   "metadata": {},
   "outputs": [],
   "source": [
    "processed = pd.read_pickle(\"{}/cooked_v3.pkl\".format (prepared_data_dir))"
   ]
  },
  {
   "cell_type": "code",
   "execution_count": null,
   "metadata": {},
   "outputs": [],
   "source": [
    "processed.info ()"
   ]
  },
  {
   "cell_type": "code",
   "execution_count": null,
   "metadata": {},
   "outputs": [],
   "source": [
    "processed.sample(5)"
   ]
  },
  {
   "cell_type": "code",
   "execution_count": null,
   "metadata": {},
   "outputs": [],
   "source": [
    "processed.head (5)"
   ]
  },
  {
   "cell_type": "code",
   "execution_count": null,
   "metadata": {},
   "outputs": [],
   "source": [
    "selected = processed[processed['Mnemonic'].isin(['EOAN', 'BMW', 'SAP'])]\n",
    "selected.Mnemonic.cat.remove_unused_categories (inplace=True)"
   ]
  },
  {
   "cell_type": "code",
   "execution_count": null,
   "metadata": {},
   "outputs": [],
   "source": [
    "selected.head(5)"
   ]
  },
  {
   "cell_type": "markdown",
   "metadata": {},
   "source": [
    "## Forecast with XGBoost <a name=\"xgboost\"></a>"
   ]
  },
  {
   "cell_type": "code",
   "execution_count": null,
   "metadata": {},
   "outputs": [],
   "source": [
    "!pip install xgboost"
   ]
  },
  {
   "cell_type": "code",
   "execution_count": null,
   "metadata": {},
   "outputs": [],
   "source": [
    "import xgboost"
   ]
  },
  {
   "cell_type": "code",
   "execution_count": null,
   "metadata": {},
   "outputs": [],
   "source": [
    "def create_xgb_target (df):\n",
    "    return df.MaxPrice.shift(-1).fillna (method='ffill')"
   ]
  },
  {
   "cell_type": "code",
   "execution_count": null,
   "metadata": {},
   "outputs": [],
   "source": [
    "def create_xgb_features (df, horizon):\n",
    "    n_df = df.copy ()\n",
    "    \n",
    "    for offset in range(1, horizon+1):\n",
    "        min_price = n_df['MinPrice'].shift (offset).fillna(method='bfill')\n",
    "        max_price = n_df['MaxPrice'].shift (offset).fillna(method='bfill')\n",
    "        start_price = n_df['StartPrice'].shift (offset).fillna(method='bfill')\n",
    "        end_price = n_df['EndPrice'].shift (offset).fillna(method='bfill')\n",
    "        trade_vol = n_df['TradedVolume'].shift (offset).fillna(method='bfill')\n",
    "        num_trades = n_df['NumberOfTrades'].shift (offset).fillna(method='bfill')\n",
    "        \n",
    "        n_df[\"h{}_MinPrice\".format (offset)] = min_price\n",
    "        n_df[\"h{}_MaxPrice\".format (offset)] = max_price\n",
    "        n_df[\"h{}_StartPrice\".format (offset)] = start_price\n",
    "        n_df[\"h{}_EndPrice\".format (offset)] = end_price\n",
    "        n_df[\"h{}_TradeVolume\".format (offset)] = trade_vol\n",
    "        n_df[\"h{}_NumberOfTrades\".format (offset)] = num_trades\n",
    "        \n",
    "    return n_df"
   ]
  },
  {
   "cell_type": "code",
   "execution_count": null,
   "metadata": {},
   "outputs": [],
   "source": [
    "xgb_data = create_xgb_features (selected, 5)\n",
    "xgb_data['NextMaxPrice'] = create_xgb_target (xgb_data)\n",
    "pd.options.display.max_columns=150\n",
    "xgb_data.head(5)"
   ]
  },
  {
   "cell_type": "code",
   "execution_count": null,
   "metadata": {},
   "outputs": [],
   "source": [
    "from sklearn.model_selection import train_test_split\n",
    "train_data, test_data = train_test_split (xgb_data, train_size=0.8, shuffle=False)\n",
    "train_data, validate_data = train_test_split (train_data, train_size=0.8, test_size=0.2, shuffle=True)\n",
    "\n",
    "train_labels = train_data.NextMaxPrice\n",
    "validate_labels = validate_data.NextMaxPrice\n",
    "test_labels = test_data.NextMaxPrice"
   ]
  },
  {
   "cell_type": "code",
   "execution_count": null,
   "metadata": {},
   "outputs": [],
   "source": [
    "train_data.drop (\"NextMaxPrice\", axis=1, inplace=True)\n",
    "validate_data.drop (\"NextMaxPrice\", axis=1, inplace=True)\n",
    "test_data.drop ('NextMaxPrice', axis = 1, inplace=True)"
   ]
  },
  {
   "cell_type": "code",
   "execution_count": null,
   "metadata": {},
   "outputs": [],
   "source": [
    "train_features = pd.get_dummies(train_data)\n",
    "validate_features = pd.get_dummies(validate_data)\n",
    "test_features = pd.get_dummies(test_data)\n",
    "train_features.head(5)"
   ]
  },
  {
   "cell_type": "code",
   "execution_count": null,
   "metadata": {},
   "outputs": [],
   "source": [
    "model = xgboost.XGBRegressor (n_estimators=500)\n",
    "model.fit (train_features, train_labels, \n",
    "           eval_set=[(train_features, train_labels), (validate_features, validate_labels)],\n",
    "           early_stopping_rounds = 50, verbose=False)"
   ]
  },
  {
   "cell_type": "code",
   "execution_count": null,
   "metadata": {},
   "outputs": [],
   "source": [
    "%matplotlib inline\n",
    "from matplotlib import pyplot as plt\n",
    "from xgboost import plot_importance\n",
    "fig, ax = plt.subplots(1,1,figsize=(25,25))\n",
    "plot_importance(model, height=0.8, ax=ax)"
   ]
  },
  {
   "cell_type": "code",
   "execution_count": null,
   "metadata": {},
   "outputs": [],
   "source": [
    "from sklearn.metrics import mean_squared_error, mean_absolute_error\n",
    "pred = model.predict (test_features)\n",
    "print (\"RMSE: {}\".format (mean_squared_error (y_true = test_labels, y_pred = pred)))\n",
    "print (\"MAE: {}\".format (mean_absolute_error (y_true = test_labels, y_pred = pred)))"
   ]
  },
  {
   "cell_type": "code",
   "execution_count": null,
   "metadata": {},
   "outputs": [],
   "source": [
    "test_labels.index.get_loc('2017-07-14 08:00:00')"
   ]
  },
  {
   "cell_type": "code",
   "execution_count": null,
   "metadata": {},
   "outputs": [],
   "source": [
    "from matplotlib import pyplot as plt\n",
    "\n",
    "start_loc = test_labels.index.get_loc('2017-07-14 08:00:00')\n",
    "end_loc = test_labels.index.get_loc('2017-07-14 20:00:00')\n",
    "data = pd.DataFrame ()\n",
    "data['True_Y'] = test_labels[start_loc:end_loc]\n",
    "data['Pred_Y'] = pred[start_loc:end_loc]\n",
    "\n",
    "data.plot (figsize=(25,10))"
   ]
  },
  {
   "cell_type": "markdown",
   "metadata": {},
   "source": [
    "## Forecasting with an MLP <a name=\"mlp\"></a>"
   ]
  },
  {
   "cell_type": "code",
   "execution_count": null,
   "metadata": {},
   "outputs": [],
   "source": [
    "import mxnet as mx\n",
    "from mxnet import nd, autograd, gluon"
   ]
  },
  {
   "cell_type": "code",
   "execution_count": null,
   "metadata": {},
   "outputs": [],
   "source": [
    "num_hidden_1 = 64\n",
    "num_hidden_2 = 24\n",
    "num_output = 1\n",
    "learning_rate = 0.001\n",
    "batch_size = 100\n",
    "num_examples = 33233\n",
    "\n",
    "model_ctx = mx.cpu ()\n",
    "data_ctx = mx.cpu ()"
   ]
  },
  {
   "cell_type": "code",
   "execution_count": null,
   "metadata": {},
   "outputs": [],
   "source": [
    "train_dataset = gluon.data.dataset.ArrayDataset (nd.array(train_features), nd.array(train_labels))\n",
    "train_dataloader = gluon.data.DataLoader (train_dataset, batch_size=batch_size)\n",
    "\n",
    "validate_dataset = gluon.data.dataset.ArrayDataset (nd.array(validate_features), nd.array(validate_labels))\n",
    "validate_dataloader = gluon.data.DataLoader (validate_dataset, batch_size=batch_size)\n",
    "\n",
    "test_dataset = gluon.data.dataset.ArrayDataset (nd.array(test_features), nd.array(test_labels))\n",
    "test_dataloader = gluon.data.DataLoader (test_dataset, batch_size=batch_size)"
   ]
  },
  {
   "cell_type": "code",
   "execution_count": null,
   "metadata": {},
   "outputs": [],
   "source": [
    "model = gluon.nn.Sequential ()\n",
    "with model.name_scope ():\n",
    "    model.add (gluon.nn.Dense (num_hidden_1, activation='relu'))\n",
    "    model.add (gluon.nn.Dense (num_hidden_2, activation='relu'))\n",
    "    model.add (gluon.nn.Dense (num_output))\n",
    "    \n",
    "model.collect_params().initialize(mx.init.Normal(sigma=.1), ctx=model_ctx)\n",
    "l2loss = gluon.loss.L2Loss ()\n",
    "trainer = gluon.Trainer(model.collect_params(), 'adam', {'learning_rate': learning_rate})\n"
   ]
  },
  {
   "cell_type": "code",
   "execution_count": null,
   "metadata": {},
   "outputs": [],
   "source": [
    "def evaluate_accuracy(data_iterator, model):\n",
    "    rmse = mx.metric.RMSE ()\n",
    "    for i, (data, label) in enumerate(data_iterator):\n",
    "        data = data.as_in_context(model_ctx).reshape((-1, 46))\n",
    "        label = label.as_in_context(model_ctx)\n",
    "        output = model(data)\n",
    "        predictions = output # predictions = nd.argmax(output, axis=1)\n",
    "        rmse.update(preds=predictions, labels=label)\n",
    "    return rmse.get()[1]"
   ]
  },
  {
   "cell_type": "code",
   "execution_count": null,
   "metadata": {},
   "outputs": [],
   "source": [
    "epochs = 50\n",
    "smoothing_constant = .01\n",
    "\n",
    "for e in range(epochs):\n",
    "    cumulative_loss = 0\n",
    "    for i, (data, label) in enumerate(train_dataloader):\n",
    "        data = data.as_in_context(model_ctx).reshape((-1, 46))\n",
    "        label = label.as_in_context(model_ctx)\n",
    "        with autograd.record():\n",
    "            output = model(data)\n",
    "            loss = l2loss(output, label)\n",
    "        loss.backward()\n",
    "        trainer.step(data.shape[0])\n",
    "        cumulative_loss += nd.sum(loss).asscalar()\n",
    "\n",
    "    validate_accuracy = evaluate_accuracy(validate_dataloader, model)\n",
    "    train_accuracy = evaluate_accuracy(train_dataloader, model)\n",
    "    print(\"Epoch %s. Loss: %s, Train_acc %s, Validate_acc %s\" %\n",
    "          (e, cumulative_loss/num_examples, train_accuracy, validate_accuracy))"
   ]
  },
  {
   "cell_type": "code",
   "execution_count": null,
   "metadata": {},
   "outputs": [],
   "source": [
    "from sklearn.metrics import mean_squared_error, mean_absolute_error\n",
    "pred = model(nd.array(test_features)).asnumpy ().reshape(-1)\n",
    "print (\"RMSE: {}\".format (mean_squared_error (y_true = test_labels, y_pred = pred)))\n",
    "print (\"MAE: {}\".format (mean_absolute_error (y_true = test_labels, y_pred = pred)))"
   ]
  },
  {
   "cell_type": "code",
   "execution_count": null,
   "metadata": {},
   "outputs": [],
   "source": [
    "from matplotlib import pyplot as plt\n",
    "\n",
    "start_loc = test_labels.index.get_loc('2017-07-14 08:00:00')\n",
    "end_loc = test_labels.index.get_loc('2017-07-14 20:00:00')\n",
    "data = pd.DataFrame ()\n",
    "data['True_Y'] = test_labels[start_loc:end_loc]\n",
    "data['Pred_Y'] = pred[start_loc:end_loc]\n",
    "\n",
    "data.plot (figsize=(25,10))"
   ]
  },
  {
   "cell_type": "markdown",
   "metadata": {},
   "source": [
    "---\n",
    "Extra credit\n",
    "\n",
    "## Forecasting with CNN\n",
    "\n",
    "## Forecasting with LSTM"
   ]
  },
  {
   "cell_type": "markdown",
   "metadata": {},
   "source": [
    "## Forecasting with DeepAR"
   ]
  }
 ],
 "metadata": {
  "kernelspec": {
   "display_name": "conda_python3",
   "language": "python",
   "name": "conda_python3"
  },
  "language_info": {
   "codemirror_mode": {
    "name": "ipython",
    "version": 3
   },
   "file_extension": ".py",
   "mimetype": "text/x-python",
   "name": "python",
   "nbconvert_exporter": "python",
   "pygments_lexer": "ipython3",
   "version": "3.6.5"
  }
 },
 "nbformat": 4,
 "nbformat_minor": 2
}
